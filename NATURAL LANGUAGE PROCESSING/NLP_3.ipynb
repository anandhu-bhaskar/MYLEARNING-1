{
 "cells": [
  {
   "cell_type": "markdown",
   "metadata": {},
   "source": [
    "# TEXT SUMMARIZATION"
   ]
  },
  {
   "cell_type": "markdown",
   "metadata": {},
   "source": [
    "### RULES"
   ]
  },
  {
   "cell_type": "markdown",
   "metadata": {},
   "source": [
    "Step-1 : Collect individual sentences from article in to a list # using nltk.tokenize.      \n",
    "Step-2 : Remove stop words # import stopwords from corpus & punctuations from string : to create a list to filter.     \n",
    "Step-3 : Identify important words by finding how frequent the ocuurred in the text.       \n",
    "Step-4 : Identify important text by taking sencentes which contain most no of important words.   \n",
    "Step-5 : Auto-summarize text.      "
   ]
  },
  {
   "cell_type": "markdown",
   "metadata": {},
   "source": [
    "### Task-1"
   ]
  },
  {
   "cell_type": "markdown",
   "metadata": {},
   "source": [
    "Extract data from web"
   ]
  },
  {
   "cell_type": "code",
   "execution_count": 18,
   "metadata": {},
   "outputs": [],
   "source": [
    "def get_Article_washington(article):\n",
    "    import urllib3\n",
    "    from bs4 import BeautifulSoup\n",
    "    import re\n",
    "    req = urllib3.PoolManager()\n",
    "    res = req.request('GET', article)\n",
    "    soup = BeautifulSoup(res.data, 'html.parser')\n",
    "    text = soup.find('div',class_ = \"article-body\").text\n",
    "    text = text.replace(\"ADAD\",\" \") #to remove that annoying 'ADAD' from washington text\n",
    "    text = text.encode('ascii', errors='replace').decode().replace(\"?\", \" \") #to replace special characters caused by encoding\n",
    "    #text = re.sub(r'(?<=[.,])(?=[^\\s])', r' ', text)\n",
    "    return text"
   ]
  },
  {
   "cell_type": "code",
   "execution_count": 19,
   "metadata": {},
   "outputs": [
    {
     "name": "stderr",
     "output_type": "stream",
     "text": [
      "C:\\Users\\LOCALGHOST\\Anaconda3\\lib\\site-packages\\urllib3\\connectionpool.py:847: InsecureRequestWarning: Unverified HTTPS request is being made. Adding certificate verification is strongly advised. See: https://urllib3.readthedocs.io/en/latest/advanced-usage.html#ssl-warnings\n",
      "  InsecureRequestWarning)\n"
     ]
    },
    {
     "data": {
      "text/plain": [
       "\"There are a lot of rocks flying around through space. Lots of debris, too. Old satellites, spent rocket boosters, even for a short while a spatula that got loose during a space shuttle mission in 2006. All of it swirling around in orbit, creating a bit of a traffic jam.For years, the Pentagon has been worried about the collisions that might be caused by an estimated 500,000 pieces of debris, taking out enormously valuable satellites and, in turn, creating even more debris. On Tuesday, the Defense Department took another significant step toward monitoring all of the cosmic junk swirling around in space, by delivering a gigantic new telescope capable of seeing small objects from very far away.Developed by the Defense Advanced Research Project Agency, the Space Surveillance Telescope was formally transferred to the Air Force during a ceremony at White Sands Missile Base in New Mexico Tuesday. The telescope is designed to monitor objects as small as softballs, in Geosynchonous orbit (GEO) some of the most important real estate in space. At about 22,000 miles away, its orbit mirrors that of the Earth, so that satellites parked there remain in a fixed point over the globe. That allows satellite television or communications providers to serve particular areas say, North America or Asia uninterrupted.But not only is the orbit far away it s incredibly vast.  A volume of tens of thousands of oceans,  said Lindsay Millard, DARPA s program manager in a podcast posted on the agency s website. But the telescope's ability to see  something very far away over a very wide area is really what it s best at. DARPA says the advanced technology in the massive, 90-ton telescope would allow officials to go from  seeing only a few large objects at a time through the equivalent of a drinking straw to a windshield view with 10,000 objects at a time.  It is also being used by NASA to monitor asteroids and other near-Earth objects that could collide with the planet, officials said. Over the next two years, the telescope is going to be moved and reconstructed in Australia, a vantage point that would allow it to survey an under served area of space.The telescope is  a big improvement over the legacy ground-based optical telescopes that are used by the U.S. Air Force, because it can search large areas of sky and also track very faint (small) objects in and around GEO,  Brian Weeden, a Technical Advisor at the Secure World Foundation, wrote in an email.  That's a critical capability for the U.S. military, as they have a lot of very important satellites in GEO, and are increasingly worried about threats to those satellites. The telescope would join another new space debris tracking technology known as the Space Fence, which is now being built by Bethesda-based Lockheed Martin. The radar system is going to be located on Kwajalein Atoll in the Marshall Islands and would use radar to help the Air Force track 10 times amount of debris than it currently monitors. With many valuable assets in space satellites used for intelligence, communications and guiding weapons the Pentagon has become increasingly concerned with what it calls  space situational awareness.  Instead of being a benign environment, the Pentagon likes to say that space has become  contested, congested and competitive.  In orbit, debris moves very fast, as much as 17,500 m.p.h., so that even a fleck of paint could cause damage.In 2007, the Chinese fired a missile that blew up a dead satellite and littered space with thousands of pieces of debris. And the Air Force has been working to make its satellites more resilient. It has plans to send swarms of small satellites into orbit that are more difficult to target. Every military operation that takes place in the world today is critically dependent on space in one way or another,  Air Force Gen. John Hyten said in an interview earlier this year when he was the commander of the Air Force Space Command.  Whether our own people in the United States are fully cognizant of the dependence on space or not, the rest of the world has been watching us very closely.  \""
      ]
     },
     "metadata": {},
     "output_type": "display_data"
    }
   ],
   "source": [
    "article = \"https://www.washingtonpost.com/news/the-switch/wp/2016/10/18/the-pentagons-massive-new-telescope-is-designed-to-track-space-junk-and-watch-out-for-killer-asteroids/\"\n",
    "text = get_Article_washington(article)\n",
    "display(text)"
   ]
  },
  {
   "cell_type": "markdown",
   "metadata": {},
   "source": [
    "#### TASK -2"
   ]
  },
  {
   "cell_type": "markdown",
   "metadata": {},
   "source": [
    "Preprocess Downloaded Text"
   ]
  },
  {
   "cell_type": "code",
   "execution_count": 21,
   "metadata": {},
   "outputs": [],
   "source": [
    "from nltk  import sent_tokenize, word_tokenize\n",
    "from nltk.corpus import stopwords\n",
    "from string import punctuation"
   ]
  },
  {
   "cell_type": "code",
   "execution_count": 22,
   "metadata": {},
   "outputs": [
    {
     "data": {
      "text/plain": [
       "['there are a lot of rocks flying around through space.',\n",
       " 'lots of debris, too.',\n",
       " 'old satellites, spent rocket boosters, even for a short while a spatula that got loose during a space shuttle mission in 2006. all of it swirling around in orbit, creating a bit of a traffic jam.for years, the pentagon has been worried about the collisions that might be caused by an estimated 500,000 pieces of debris, taking out enormously valuable satellites and, in turn, creating even more debris.',\n",
       " 'on tuesday, the defense department took another significant step toward monitoring all of the cosmic junk swirling around in space, by delivering a gigantic new telescope capable of seeing small objects from very far away.developed by the defense advanced research project agency, the space surveillance telescope was formally transferred to the air force during a ceremony at white sands missile base in new mexico tuesday.',\n",
       " 'the telescope is designed to monitor objects as small as softballs, in geosynchonous orbit (geo) some of the most important real estate in space.',\n",
       " 'at about 22,000 miles away, its orbit mirrors that of the earth, so that satellites parked there remain in a fixed point over the globe.',\n",
       " 'that allows satellite television or communications providers to serve particular areas say, north america or asia uninterrupted.but not only is the orbit far away it s incredibly vast.',\n",
       " 'a volume of tens of thousands of oceans,  said lindsay millard, darpa s program manager in a podcast posted on the agency s website.',\n",
       " \"but the telescope's ability to see  something very far away over a very wide area is really what it s best at.\",\n",
       " 'darpa says the advanced technology in the massive, 90-ton telescope would allow officials to go from  seeing only a few large objects at a time through the equivalent of a drinking straw to a windshield view with 10,000 objects at a time.',\n",
       " 'it is also being used by nasa to monitor asteroids and other near-earth objects that could collide with the planet, officials said.',\n",
       " 'over the next two years, the telescope is going to be moved and reconstructed in australia, a vantage point that would allow it to survey an under served area of space.the telescope is  a big improvement over the legacy ground-based optical telescopes that are used by the u.s. air force, because it can search large areas of sky and also track very faint (small) objects in and around geo,  brian weeden, a technical advisor at the secure world foundation, wrote in an email.',\n",
       " \"that's a critical capability for the u.s. military, as they have a lot of very important satellites in geo, and are increasingly worried about threats to those satellites.\",\n",
       " 'the telescope would join another new space debris tracking technology known as the space fence, which is now being built by bethesda-based lockheed martin.',\n",
       " 'the radar system is going to be located on kwajalein atoll in the marshall islands and would use radar to help the air force track 10 times amount of debris than it currently monitors.',\n",
       " 'with many valuable assets in space satellites used for intelligence, communications and guiding weapons the pentagon has become increasingly concerned with what it calls  space situational awareness.',\n",
       " 'instead of being a benign environment, the pentagon likes to say that space has become  contested, congested and competitive.',\n",
       " 'in orbit, debris moves very fast, as much as 17,500 m.p.h., so that even a fleck of paint could cause damage.in 2007, the chinese fired a missile that blew up a dead satellite and littered space with thousands of pieces of debris.',\n",
       " 'and the air force has been working to make its satellites more resilient.',\n",
       " 'it has plans to send swarms of small satellites into orbit that are more difficult to target.',\n",
       " 'every military operation that takes place in the world today is critically dependent on space in one way or another,  air force gen. john hyten said in an interview earlier this year when he was the commander of the air force space command.',\n",
       " 'whether our own people in the united states are fully cognizant of the dependence on space or not, the rest of the world has been watching us very closely.']"
      ]
     },
     "execution_count": 22,
     "metadata": {},
     "output_type": "execute_result"
    }
   ],
   "source": [
    "sents = sent_tokenize(text.lower()) #para to indvidl sentences\n",
    "sents"
   ]
  },
  {
   "cell_type": "code",
   "execution_count": 23,
   "metadata": {},
   "outputs": [
    {
     "name": "stdout",
     "output_type": "stream",
     "text": [
      "['there', 'are', 'a', 'lot', 'of', 'rocks', 'flying', 'around', 'through', 'space', '.', 'lots', 'of', 'debris', ',', 'too', '.', 'old', 'satellites', ',', 'spent', 'rocket', 'boosters', ',', 'even', 'for', 'a', 'short', 'while', 'a', 'spatula', 'that', 'got', 'loose', 'during', 'a', 'space', 'shuttle', 'mission', 'in', '2006.', 'all', 'of', 'it', 'swirling', 'around', 'in', 'orbit', ',', 'creating', 'a', 'bit', 'of', 'a', 'traffic', 'jam.for', 'years', ',', 'the', 'pentagon', 'has', 'been', 'worried', 'about', 'the', 'collisions', 'that', 'might', 'be', 'caused', 'by', 'an', 'estimated', '500,000', 'pieces', 'of', 'debris', ',', 'taking', 'out', 'enormously', 'valuable', 'satellites', 'and', ',', 'in', 'turn', ',', 'creating', 'even', 'more', 'debris', '.', 'on', 'tuesday', ',', 'the', 'defense', 'department', 'took', 'another', 'significant', 'step', 'toward', 'monitoring', 'all', 'of', 'the', 'cosmic', 'junk', 'swirling', 'around', 'in', 'space', ',', 'by', 'delivering', 'a', 'gigantic', 'new', 'telescope', 'capable', 'of', 'seeing', 'small', 'objects', 'from', 'very', 'far', 'away.developed', 'by', 'the', 'defense', 'advanced', 'research', 'project', 'agency', ',', 'the', 'space', 'surveillance', 'telescope', 'was', 'formally', 'transferred', 'to', 'the', 'air', 'force', 'during', 'a', 'ceremony', 'at', 'white', 'sands', 'missile', 'base', 'in', 'new', 'mexico', 'tuesday', '.', 'the', 'telescope', 'is', 'designed', 'to', 'monitor', 'objects', 'as', 'small', 'as', 'softballs', ',', 'in', 'geosynchonous', 'orbit', '(', 'geo', ')', 'some', 'of', 'the', 'most', 'important', 'real', 'estate', 'in', 'space', '.', 'at', 'about', '22,000', 'miles', 'away', ',', 'its', 'orbit', 'mirrors', 'that', 'of', 'the', 'earth', ',', 'so', 'that', 'satellites', 'parked', 'there', 'remain', 'in', 'a', 'fixed', 'point', 'over', 'the', 'globe', '.', 'that', 'allows', 'satellite', 'television', 'or', 'communications', 'providers', 'to', 'serve', 'particular', 'areas', 'say', ',', 'north', 'america', 'or', 'asia', 'uninterrupted.but', 'not', 'only', 'is', 'the', 'orbit', 'far', 'away', 'it', 's', 'incredibly', 'vast', '.', 'a', 'volume', 'of', 'tens', 'of', 'thousands', 'of', 'oceans', ',', 'said', 'lindsay', 'millard', ',', 'darpa', 's', 'program', 'manager', 'in', 'a', 'podcast', 'posted', 'on', 'the', 'agency', 's', 'website', '.', 'but', 'the', 'telescope', \"'s\", 'ability', 'to', 'see', 'something', 'very', 'far', 'away', 'over', 'a', 'very', 'wide', 'area', 'is', 'really', 'what', 'it', 's', 'best', 'at', '.', 'darpa', 'says', 'the', 'advanced', 'technology', 'in', 'the', 'massive', ',', '90-ton', 'telescope', 'would', 'allow', 'officials', 'to', 'go', 'from', 'seeing', 'only', 'a', 'few', 'large', 'objects', 'at', 'a', 'time', 'through', 'the', 'equivalent', 'of', 'a', 'drinking', 'straw', 'to', 'a', 'windshield', 'view', 'with', '10,000', 'objects', 'at', 'a', 'time', '.', 'it', 'is', 'also', 'being', 'used', 'by', 'nasa', 'to', 'monitor', 'asteroids', 'and', 'other', 'near-earth', 'objects', 'that', 'could', 'collide', 'with', 'the', 'planet', ',', 'officials', 'said', '.', 'over', 'the', 'next', 'two', 'years', ',', 'the', 'telescope', 'is', 'going', 'to', 'be', 'moved', 'and', 'reconstructed', 'in', 'australia', ',', 'a', 'vantage', 'point', 'that', 'would', 'allow', 'it', 'to', 'survey', 'an', 'under', 'served', 'area', 'of', 'space.the', 'telescope', 'is', 'a', 'big', 'improvement', 'over', 'the', 'legacy', 'ground-based', 'optical', 'telescopes', 'that', 'are', 'used', 'by', 'the', 'u.s.', 'air', 'force', ',', 'because', 'it', 'can', 'search', 'large', 'areas', 'of', 'sky', 'and', 'also', 'track', 'very', 'faint', '(', 'small', ')', 'objects', 'in', 'and', 'around', 'geo', ',', 'brian', 'weeden', ',', 'a', 'technical', 'advisor', 'at', 'the', 'secure', 'world', 'foundation', ',', 'wrote', 'in', 'an', 'email', '.', 'that', \"'s\", 'a', 'critical', 'capability', 'for', 'the', 'u.s.', 'military', ',', 'as', 'they', 'have', 'a', 'lot', 'of', 'very', 'important', 'satellites', 'in', 'geo', ',', 'and', 'are', 'increasingly', 'worried', 'about', 'threats', 'to', 'those', 'satellites', '.', 'the', 'telescope', 'would', 'join', 'another', 'new', 'space', 'debris', 'tracking', 'technology', 'known', 'as', 'the', 'space', 'fence', ',', 'which', 'is', 'now', 'being', 'built', 'by', 'bethesda-based', 'lockheed', 'martin', '.', 'the', 'radar', 'system', 'is', 'going', 'to', 'be', 'located', 'on', 'kwajalein', 'atoll', 'in', 'the', 'marshall', 'islands', 'and', 'would', 'use', 'radar', 'to', 'help', 'the', 'air', 'force', 'track', '10', 'times', 'amount', 'of', 'debris', 'than', 'it', 'currently', 'monitors', '.', 'with', 'many', 'valuable', 'assets', 'in', 'space', 'satellites', 'used', 'for', 'intelligence', ',', 'communications', 'and', 'guiding', 'weapons', 'the', 'pentagon', 'has', 'become', 'increasingly', 'concerned', 'with', 'what', 'it', 'calls', 'space', 'situational', 'awareness', '.', 'instead', 'of', 'being', 'a', 'benign', 'environment', ',', 'the', 'pentagon', 'likes', 'to', 'say', 'that', 'space', 'has', 'become', 'contested', ',', 'congested', 'and', 'competitive', '.', 'in', 'orbit', ',', 'debris', 'moves', 'very', 'fast', ',', 'as', 'much', 'as', '17,500', 'm.p.h.', ',', 'so', 'that', 'even', 'a', 'fleck', 'of', 'paint', 'could', 'cause', 'damage.in', '2007', ',', 'the', 'chinese', 'fired', 'a', 'missile', 'that', 'blew', 'up', 'a', 'dead', 'satellite', 'and', 'littered', 'space', 'with', 'thousands', 'of', 'pieces', 'of', 'debris', '.', 'and', 'the', 'air', 'force', 'has', 'been', 'working', 'to', 'make', 'its', 'satellites', 'more', 'resilient', '.', 'it', 'has', 'plans', 'to', 'send', 'swarms', 'of', 'small', 'satellites', 'into', 'orbit', 'that', 'are', 'more', 'difficult', 'to', 'target', '.', 'every', 'military', 'operation', 'that', 'takes', 'place', 'in', 'the', 'world', 'today', 'is', 'critically', 'dependent', 'on', 'space', 'in', 'one', 'way', 'or', 'another', ',', 'air', 'force', 'gen.', 'john', 'hyten', 'said', 'in', 'an', 'interview', 'earlier', 'this', 'year', 'when', 'he', 'was', 'the', 'commander', 'of', 'the', 'air', 'force', 'space', 'command', '.', 'whether', 'our', 'own', 'people', 'in', 'the', 'united', 'states', 'are', 'fully', 'cognizant', 'of', 'the', 'dependence', 'on', 'space', 'or', 'not', ',', 'the', 'rest', 'of', 'the', 'world', 'has', 'been', 'watching', 'us', 'very', 'closely', '.']\n"
     ]
    }
   ],
   "source": [
    "words = word_tokenize(text.lower()) # list words\n",
    "print(words)"
   ]
  },
  {
   "cell_type": "code",
   "execution_count": 25,
   "metadata": {},
   "outputs": [],
   "source": [
    "customStopWords = set(stopwords.words('english')+list(punctuation)) #create a list of stop words"
   ]
  },
  {
   "cell_type": "code",
   "execution_count": 26,
   "metadata": {},
   "outputs": [
    {
     "name": "stdout",
     "output_type": "stream",
     "text": [
      "{'had', 'are', 'no', 'myself', 'at', 'shouldn', \"mightn't\", '}', 'on', 'i', 'most', '<', 'we', 'here', 'only', '{', 't', \"that'll\", 'him', 'to', 'some', '_', 'needn', 'again', 've', 'out', 'which', 'of', 'himself', 'then', '~', 'they', 'that', \"you'd\", 'he', 'couldn', 'other', 'doesn', \"isn't\", 's', 'up', 'o', 'am', 'was', 'me', 'don', 'very', 'it', 'each', \"doesn't\", '%', ']', 'won', 'into', 'all', 'theirs', \"you're\", 'this', 'any', 'can', 'by', \"wasn't\", 'so', 'yourself', 'before', 'few', 'not', \"wouldn't\", 're', '^', 'against', 'mustn', 'what', 'between', 'themselves', \"you'll\", 'your', 'down', 'shan', \"mustn't\", ',', \"don't\", '`', 'an', 'yours', 'our', 'm', 'having', 'in', 'same', 'hers', 'than', 'she', \"haven't\", 'were', 'while', \"hasn't\", '(', 'doing', 'when', 'above', \"hadn't\", 'y', 'or', 'through', '=', 'if', \"shan't\", '.', 'with', 'will', '/', '>', 'his', 'being', 'didn', 'does', 'but', 'from', 'as', 'isn', 'why', '&', '\"', \"weren't\", '@', ';', 'ours', \"needn't\", '#', 'more', 'd', 'ma', '+', 'nor', 'just', 'below', 'own', 'hasn', 'about', 'these', 'be', 'been', 'after', \"didn't\", 'such', ':', 'has', 'itself', 'both', 'until', 'll', 'where', 'whom', \"you've\", 'and', 'once', 'do', 'you', \"she's\", 'during', 'for', 'haven', 'under', '\\\\', 'aren', 'over', 'who', 'those', 'ourselves', \"couldn't\", \"'\", 'too', '!', 'is', 'there', 'should', 'the', 'ain', 'how', \"it's\", 'did', 'because', \"should've\", 'hadn', '|', \"won't\", '-', '?', 'a', 'them', 'their', \"shouldn't\", 'herself', 'wouldn', '*', 'my', 'mightn', 'wasn', 'further', 'now', 'her', ')', 'weren', 'its', \"aren't\", '$', '[', 'have', 'yourselves', 'off'}\n"
     ]
    }
   ],
   "source": [
    "print(customStopWords)"
   ]
  },
  {
   "cell_type": "code",
   "execution_count": 27,
   "metadata": {},
   "outputs": [],
   "source": [
    "word_sent = [word for word in words if word not in customStopWords ] #filters out stop words from list of words"
   ]
  },
  {
   "cell_type": "code",
   "execution_count": 28,
   "metadata": {},
   "outputs": [
    {
     "name": "stdout",
     "output_type": "stream",
     "text": [
      "['lot', 'rocks', 'flying', 'around', 'space', 'lots', 'debris', 'old', 'satellites', 'spent', 'rocket', 'boosters', 'even', 'short', 'spatula', 'got', 'loose', 'space', 'shuttle', 'mission', '2006.', 'swirling', 'around', 'orbit', 'creating', 'bit', 'traffic', 'jam.for', 'years', 'pentagon', 'worried', 'collisions', 'might', 'caused', 'estimated', '500,000', 'pieces', 'debris', 'taking', 'enormously', 'valuable', 'satellites', 'turn', 'creating', 'even', 'debris', 'tuesday', 'defense', 'department', 'took', 'another', 'significant', 'step', 'toward', 'monitoring', 'cosmic', 'junk', 'swirling', 'around', 'space', 'delivering', 'gigantic', 'new', 'telescope', 'capable', 'seeing', 'small', 'objects', 'far', 'away.developed', 'defense', 'advanced', 'research', 'project', 'agency', 'space', 'surveillance', 'telescope', 'formally', 'transferred', 'air', 'force', 'ceremony', 'white', 'sands', 'missile', 'base', 'new', 'mexico', 'tuesday', 'telescope', 'designed', 'monitor', 'objects', 'small', 'softballs', 'geosynchonous', 'orbit', 'geo', 'important', 'real', 'estate', 'space', '22,000', 'miles', 'away', 'orbit', 'mirrors', 'earth', 'satellites', 'parked', 'remain', 'fixed', 'point', 'globe', 'allows', 'satellite', 'television', 'communications', 'providers', 'serve', 'particular', 'areas', 'say', 'north', 'america', 'asia', 'uninterrupted.but', 'orbit', 'far', 'away', 'incredibly', 'vast', 'volume', 'tens', 'thousands', 'oceans', 'said', 'lindsay', 'millard', 'darpa', 'program', 'manager', 'podcast', 'posted', 'agency', 'website', 'telescope', \"'s\", 'ability', 'see', 'something', 'far', 'away', 'wide', 'area', 'really', 'best', 'darpa', 'says', 'advanced', 'technology', 'massive', '90-ton', 'telescope', 'would', 'allow', 'officials', 'go', 'seeing', 'large', 'objects', 'time', 'equivalent', 'drinking', 'straw', 'windshield', 'view', '10,000', 'objects', 'time', 'also', 'used', 'nasa', 'monitor', 'asteroids', 'near-earth', 'objects', 'could', 'collide', 'planet', 'officials', 'said', 'next', 'two', 'years', 'telescope', 'going', 'moved', 'reconstructed', 'australia', 'vantage', 'point', 'would', 'allow', 'survey', 'served', 'area', 'space.the', 'telescope', 'big', 'improvement', 'legacy', 'ground-based', 'optical', 'telescopes', 'used', 'u.s.', 'air', 'force', 'search', 'large', 'areas', 'sky', 'also', 'track', 'faint', 'small', 'objects', 'around', 'geo', 'brian', 'weeden', 'technical', 'advisor', 'secure', 'world', 'foundation', 'wrote', 'email', \"'s\", 'critical', 'capability', 'u.s.', 'military', 'lot', 'important', 'satellites', 'geo', 'increasingly', 'worried', 'threats', 'satellites', 'telescope', 'would', 'join', 'another', 'new', 'space', 'debris', 'tracking', 'technology', 'known', 'space', 'fence', 'built', 'bethesda-based', 'lockheed', 'martin', 'radar', 'system', 'going', 'located', 'kwajalein', 'atoll', 'marshall', 'islands', 'would', 'use', 'radar', 'help', 'air', 'force', 'track', '10', 'times', 'amount', 'debris', 'currently', 'monitors', 'many', 'valuable', 'assets', 'space', 'satellites', 'used', 'intelligence', 'communications', 'guiding', 'weapons', 'pentagon', 'become', 'increasingly', 'concerned', 'calls', 'space', 'situational', 'awareness', 'instead', 'benign', 'environment', 'pentagon', 'likes', 'say', 'space', 'become', 'contested', 'congested', 'competitive', 'orbit', 'debris', 'moves', 'fast', 'much', '17,500', 'm.p.h.', 'even', 'fleck', 'paint', 'could', 'cause', 'damage.in', '2007', 'chinese', 'fired', 'missile', 'blew', 'dead', 'satellite', 'littered', 'space', 'thousands', 'pieces', 'debris', 'air', 'force', 'working', 'make', 'satellites', 'resilient', 'plans', 'send', 'swarms', 'small', 'satellites', 'orbit', 'difficult', 'target', 'every', 'military', 'operation', 'takes', 'place', 'world', 'today', 'critically', 'dependent', 'space', 'one', 'way', 'another', 'air', 'force', 'gen.', 'john', 'hyten', 'said', 'interview', 'earlier', 'year', 'commander', 'air', 'force', 'space', 'command', 'whether', 'people', 'united', 'states', 'fully', 'cognizant', 'dependence', 'space', 'rest', 'world', 'watching', 'us', 'closely']\n"
     ]
    }
   ],
   "source": [
    "print(word_sent)"
   ]
  },
  {
   "cell_type": "markdown",
   "metadata": {},
   "source": [
    "#### TASK - 3 "
   ]
  },
  {
   "cell_type": "markdown",
   "metadata": {},
   "source": [
    "Construct a frequency distribution of words"
   ]
  },
  {
   "cell_type": "code",
   "execution_count": 30,
   "metadata": {},
   "outputs": [],
   "source": [
    "from nltk.probability import FreqDist #FreqDist is a table that contains words and no. of time it occurs"
   ]
  },
  {
   "cell_type": "code",
   "execution_count": 40,
   "metadata": {},
   "outputs": [
    {
     "data": {
      "text/plain": [
       "dict_items([('lot', 2), ('rocks', 1), ('flying', 1), ('around', 4), ('space', 14), ('lots', 1), ('debris', 7), ('old', 1), ('satellites', 8), ('spent', 1), ('rocket', 1), ('boosters', 1), ('even', 3), ('short', 1), ('spatula', 1), ('got', 1), ('loose', 1), ('shuttle', 1), ('mission', 1), ('2006.', 1), ('swirling', 2), ('orbit', 6), ('creating', 2), ('bit', 1), ('traffic', 1), ('jam.for', 1), ('years', 2), ('pentagon', 3), ('worried', 2), ('collisions', 1), ('might', 1), ('caused', 1), ('estimated', 1), ('500,000', 1), ('pieces', 2), ('taking', 1), ('enormously', 1), ('valuable', 2), ('turn', 1), ('tuesday', 2), ('defense', 2), ('department', 1), ('took', 1), ('another', 3), ('significant', 1), ('step', 1), ('toward', 1), ('monitoring', 1), ('cosmic', 1), ('junk', 1), ('delivering', 1), ('gigantic', 1), ('new', 3), ('telescope', 8), ('capable', 1), ('seeing', 2), ('small', 4), ('objects', 6), ('far', 3), ('away.developed', 1), ('advanced', 2), ('research', 1), ('project', 1), ('agency', 2), ('surveillance', 1), ('formally', 1), ('transferred', 1), ('air', 6), ('force', 6), ('ceremony', 1), ('white', 1), ('sands', 1), ('missile', 2), ('base', 1), ('mexico', 1), ('designed', 1), ('monitor', 2), ('softballs', 1), ('geosynchonous', 1), ('geo', 3), ('important', 2), ('real', 1), ('estate', 1), ('22,000', 1), ('miles', 1), ('away', 3), ('mirrors', 1), ('earth', 1), ('parked', 1), ('remain', 1), ('fixed', 1), ('point', 2), ('globe', 1), ('allows', 1), ('satellite', 2), ('television', 1), ('communications', 2), ('providers', 1), ('serve', 1), ('particular', 1), ('areas', 2), ('say', 2), ('north', 1), ('america', 1), ('asia', 1), ('uninterrupted.but', 1), ('incredibly', 1), ('vast', 1), ('volume', 1), ('tens', 1), ('thousands', 2), ('oceans', 1), ('said', 3), ('lindsay', 1), ('millard', 1), ('darpa', 2), ('program', 1), ('manager', 1), ('podcast', 1), ('posted', 1), ('website', 1), (\"'s\", 2), ('ability', 1), ('see', 1), ('something', 1), ('wide', 1), ('area', 2), ('really', 1), ('best', 1), ('says', 1), ('technology', 2), ('massive', 1), ('90-ton', 1), ('would', 4), ('allow', 2), ('officials', 2), ('go', 1), ('large', 2), ('time', 2), ('equivalent', 1), ('drinking', 1), ('straw', 1), ('windshield', 1), ('view', 1), ('10,000', 1), ('also', 2), ('used', 3), ('nasa', 1), ('asteroids', 1), ('near-earth', 1), ('could', 2), ('collide', 1), ('planet', 1), ('next', 1), ('two', 1), ('going', 2), ('moved', 1), ('reconstructed', 1), ('australia', 1), ('vantage', 1), ('survey', 1), ('served', 1), ('space.the', 1), ('big', 1), ('improvement', 1), ('legacy', 1), ('ground-based', 1), ('optical', 1), ('telescopes', 1), ('u.s.', 2), ('search', 1), ('sky', 1), ('track', 2), ('faint', 1), ('brian', 1), ('weeden', 1), ('technical', 1), ('advisor', 1), ('secure', 1), ('world', 3), ('foundation', 1), ('wrote', 1), ('email', 1), ('critical', 1), ('capability', 1), ('military', 2), ('increasingly', 2), ('threats', 1), ('join', 1), ('tracking', 1), ('known', 1), ('fence', 1), ('built', 1), ('bethesda-based', 1), ('lockheed', 1), ('martin', 1), ('radar', 2), ('system', 1), ('located', 1), ('kwajalein', 1), ('atoll', 1), ('marshall', 1), ('islands', 1), ('use', 1), ('help', 1), ('10', 1), ('times', 1), ('amount', 1), ('currently', 1), ('monitors', 1), ('many', 1), ('assets', 1), ('intelligence', 1), ('guiding', 1), ('weapons', 1), ('become', 2), ('concerned', 1), ('calls', 1), ('situational', 1), ('awareness', 1), ('instead', 1), ('benign', 1), ('environment', 1), ('likes', 1), ('contested', 1), ('congested', 1), ('competitive', 1), ('moves', 1), ('fast', 1), ('much', 1), ('17,500', 1), ('m.p.h.', 1), ('fleck', 1), ('paint', 1), ('cause', 1), ('damage.in', 1), ('2007', 1), ('chinese', 1), ('fired', 1), ('blew', 1), ('dead', 1), ('littered', 1), ('working', 1), ('make', 1), ('resilient', 1), ('plans', 1), ('send', 1), ('swarms', 1), ('difficult', 1), ('target', 1), ('every', 1), ('operation', 1), ('takes', 1), ('place', 1), ('today', 1), ('critically', 1), ('dependent', 1), ('one', 1), ('way', 1), ('gen.', 1), ('john', 1), ('hyten', 1), ('interview', 1), ('earlier', 1), ('year', 1), ('commander', 1), ('command', 1), ('whether', 1), ('people', 1), ('united', 1), ('states', 1), ('fully', 1), ('cognizant', 1), ('dependence', 1), ('rest', 1), ('watching', 1), ('us', 1), ('closely', 1)])"
      ]
     },
     "metadata": {},
     "output_type": "display_data"
    }
   ],
   "source": [
    "freq = FreqDist(word_sent) #returns a dict\n",
    "freq.items()"
   ]
  },
  {
   "cell_type": "code",
   "execution_count": 41,
   "metadata": {},
   "outputs": [],
   "source": [
    "#now lets find the most important words"
   ]
  },
  {
   "cell_type": "code",
   "execution_count": 42,
   "metadata": {},
   "outputs": [],
   "source": [
    "from heapq import nlargest # this function can be used to sort any collection - "
   ]
  },
  {
   "cell_type": "code",
   "execution_count": 46,
   "metadata": {},
   "outputs": [],
   "source": [
    "# function takes 3 inputs: no_of_elements - name_of_the_collection - function_used_to_sort\n",
    "# freq.get is a way to get the corresponding value in the dict : freq for a given key\n",
    "# since the values represent count, given a word it will return count for that specific word"
   ]
  },
  {
   "cell_type": "code",
   "execution_count": 44,
   "metadata": {},
   "outputs": [
    {
     "data": {
      "text/plain": [
       "['space',\n",
       " 'satellites',\n",
       " 'telescope',\n",
       " 'debris',\n",
       " 'orbit',\n",
       " 'objects',\n",
       " 'air',\n",
       " 'force',\n",
       " 'around',\n",
       " 'small']"
      ]
     },
     "execution_count": 44,
     "metadata": {},
     "output_type": "execute_result"
    }
   ],
   "source": [
    "nlargest(10, freq, key=freq.get)"
   ]
  },
  {
   "cell_type": "markdown",
   "metadata": {},
   "source": [
    "now that we have words and their corresponding frequencies,  we can use them to compute     \n",
    "a significance score for each sentence in the article"
   ]
  },
  {
   "cell_type": "code",
   "execution_count": 47,
   "metadata": {},
   "outputs": [],
   "source": [
    "# create a dictionary\n",
    "# keys --> sentences\n",
    "# values --> significance_score\n",
    "# For this use defaultdict - check diff b/w def_dict & reg_dict"
   ]
  },
  {
   "cell_type": "code",
   "execution_count": 49,
   "metadata": {},
   "outputs": [],
   "source": [
    "from collections import defaultdict\n",
    "ranking = defaultdict(int)"
   ]
  },
  {
   "cell_type": "code",
   "execution_count": 50,
   "metadata": {},
   "outputs": [],
   "source": [
    "for i,sent in enumerate(sents):\n",
    "    for wrd in word_tokenize(sent):\n",
    "        if wrd in freq:\n",
    "            ranking[i] = ranking[i]+freq[wrd]"
   ]
  },
  {
   "cell_type": "code",
   "execution_count": 51,
   "metadata": {},
   "outputs": [
    {
     "data": {
      "text/plain": [
       "defaultdict(int,\n",
       "            {0: 22,\n",
       "             1: 8,\n",
       "             2: 99,\n",
       "             3: 122,\n",
       "             4: 50,\n",
       "             5: 27,\n",
       "             6: 31,\n",
       "             7: 19,\n",
       "             8: 24,\n",
       "             9: 52,\n",
       "             10: 25,\n",
       "             11: 101,\n",
       "             12: 36,\n",
       "             13: 63,\n",
       "             14: 44,\n",
       "             15: 59,\n",
       "             16: 28,\n",
       "             17: 62,\n",
       "             18: 23,\n",
       "             19: 23,\n",
       "             20: 80,\n",
       "             21: 28})"
      ]
     },
     "execution_count": 51,
     "metadata": {},
     "output_type": "execute_result"
    }
   ],
   "source": [
    "ranking"
   ]
  },
  {
   "cell_type": "code",
   "execution_count": 52,
   "metadata": {},
   "outputs": [],
   "source": [
    "sents_idx = nlargest(4,ranking,key=ranking.get)"
   ]
  },
  {
   "cell_type": "code",
   "execution_count": 53,
   "metadata": {},
   "outputs": [
    {
     "data": {
      "text/plain": [
       "[3, 11, 2, 20]"
      ]
     },
     "execution_count": 53,
     "metadata": {},
     "output_type": "execute_result"
    }
   ],
   "source": [
    "sents_idx"
   ]
  },
  {
   "cell_type": "code",
   "execution_count": 54,
   "metadata": {},
   "outputs": [
    {
     "data": {
      "text/plain": [
       "['old satellites, spent rocket boosters, even for a short while a spatula that got loose during a space shuttle mission in 2006. all of it swirling around in orbit, creating a bit of a traffic jam.for years, the pentagon has been worried about the collisions that might be caused by an estimated 500,000 pieces of debris, taking out enormously valuable satellites and, in turn, creating even more debris.',\n",
       " 'on tuesday, the defense department took another significant step toward monitoring all of the cosmic junk swirling around in space, by delivering a gigantic new telescope capable of seeing small objects from very far away.developed by the defense advanced research project agency, the space surveillance telescope was formally transferred to the air force during a ceremony at white sands missile base in new mexico tuesday.',\n",
       " 'over the next two years, the telescope is going to be moved and reconstructed in australia, a vantage point that would allow it to survey an under served area of space.the telescope is  a big improvement over the legacy ground-based optical telescopes that are used by the u.s. air force, because it can search large areas of sky and also track very faint (small) objects in and around geo,  brian weeden, a technical advisor at the secure world foundation, wrote in an email.',\n",
       " 'every military operation that takes place in the world today is critically dependent on space in one way or another,  air force gen. john hyten said in an interview earlier this year when he was the commander of the air force space command.']"
      ]
     },
     "execution_count": 54,
     "metadata": {},
     "output_type": "execute_result"
    }
   ],
   "source": [
    "[sents[j] for j in sorted(sents_idx)]"
   ]
  },
  {
   "cell_type": "code",
   "execution_count": null,
   "metadata": {},
   "outputs": [],
   "source": []
  }
 ],
 "metadata": {
  "kernelspec": {
   "display_name": "Python 3",
   "language": "python",
   "name": "python3"
  },
  "language_info": {
   "codemirror_mode": {
    "name": "ipython",
    "version": 3
   },
   "file_extension": ".py",
   "mimetype": "text/x-python",
   "name": "python",
   "nbconvert_exporter": "python",
   "pygments_lexer": "ipython3",
   "version": "3.7.4"
  }
 },
 "nbformat": 4,
 "nbformat_minor": 2
}
