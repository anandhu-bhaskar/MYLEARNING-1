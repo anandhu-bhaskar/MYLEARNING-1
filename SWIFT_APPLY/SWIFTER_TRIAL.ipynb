{
 "cells": [
  {
   "cell_type": "markdown",
   "metadata": {},
   "source": [
    "<h1>Pandas apply functions faster using Swifter</h1>"
   ]
  },
  {
   "cell_type": "markdown",
   "metadata": {},
   "source": [
    "<h4>Find out the time required for applying a function to dataframe</h4>"
   ]
  },
  {
   "cell_type": "code",
   "execution_count": null,
   "metadata": {},
   "outputs": [],
   "source": [
    "# Build a dataframe with 10M rows and two columns with values selected randomly between 1 and 1000"
   ]
  },
  {
   "cell_type": "code",
   "execution_count": 1,
   "metadata": {},
   "outputs": [],
   "source": [
    "import pandas as pd\n",
    "import numpy as np\n",
    "import time"
   ]
  },
  {
   "cell_type": "code",
   "execution_count": 2,
   "metadata": {},
   "outputs": [],
   "source": [
    "df = pd.DataFrame({'X':np.random.randint(1000, size=10000000),'Y':np.random.randint(1000, size=10000000)})"
   ]
  },
  {
   "cell_type": "code",
   "execution_count": 3,
   "metadata": {},
   "outputs": [],
   "source": [
    "# Function to add the sum of squares of each column"
   ]
  },
  {
   "cell_type": "code",
   "execution_count": 4,
   "metadata": {},
   "outputs": [],
   "source": [
    "def add_squares(df):\n",
    "    return df.X**2+df.Y**2"
   ]
  },
  {
   "cell_type": "code",
   "execution_count": 5,
   "metadata": {},
   "outputs": [],
   "source": [
    "# Check the time it takes to apply the function"
   ]
  },
  {
   "cell_type": "code",
   "execution_count": 6,
   "metadata": {},
   "outputs": [
    {
     "name": "stdout",
     "output_type": "stream",
     "text": [
      "309.784300327301\n"
     ]
    }
   ],
   "source": [
    "start_time = time.time()\n",
    "df['add_squares']=df.apply(add_squares,axis=1)\n",
    "print(time.time()-start_time)"
   ]
  },
  {
   "cell_type": "code",
   "execution_count": null,
   "metadata": {},
   "outputs": [],
   "source": [
    "# It took average around 309.78 secs per loop to apply add_squares method on this dataframe of 100M rows and 2 columns"
   ]
  },
  {
   "cell_type": "markdown",
   "metadata": {},
   "source": [
    "<h4>Use Swifter Library & Time IT</h4>"
   ]
  },
  {
   "cell_type": "code",
   "execution_count": 3,
   "metadata": {},
   "outputs": [],
   "source": [
    "import swifter"
   ]
  },
  {
   "cell_type": "code",
   "execution_count": 4,
   "metadata": {},
   "outputs": [],
   "source": [
    "def add_squares(a,b):\n",
    "    return a**2+b**2"
   ]
  },
  {
   "cell_type": "code",
   "execution_count": 5,
   "metadata": {},
   "outputs": [
    {
     "data": {
      "application/vnd.jupyter.widget-view+json": {
       "model_id": "088ce3d6a29741479efc74dedd5d6c5a",
       "version_major": 2,
       "version_minor": 0
      },
      "text/plain": [
       "HBox(children=(IntProgress(value=0, description='Dask Apply', max=32, style=ProgressStyle(description_width='i…"
      ]
     },
     "metadata": {},
     "output_type": "display_data"
    },
    {
     "name": "stdout",
     "output_type": "stream",
     "text": [
      "\n",
      "71.2806544303894\n"
     ]
    }
   ],
   "source": [
    "start_time = time.time()\n",
    "df ['add_sq']=df.swifter.apply(lambda row:add_squares(row.X,row.Y),axis=1)\n",
    "print(time.time()-start_time)"
   ]
  },
  {
   "cell_type": "code",
   "execution_count": null,
   "metadata": {},
   "outputs": [],
   "source": [
    "# Swift took average around 71.28 secs per loop to apply add_squares method on this dataframe of 100M rows and 2 columns"
   ]
  },
  {
   "cell_type": "markdown",
   "metadata": {},
   "source": [
    "<h1>RESULTS</h1>"
   ]
  },
  {
   "cell_type": "markdown",
   "metadata": {},
   "source": [
    "<h4>100k</h4>\n",
    "-------------                       \n",
    "\n",
    "\n",
    "3.010223388671875          \n",
    "6.556478500366211\n",
    "\n",
    "\n",
    "#FOR 100k rows apply without swift was faster\n",
    "    \n",
    "<h4>1M</h4>\n",
    "-------------\n",
    "\n",
    "30.70429754257202  \n",
    "11.413851499557495         \n",
    "\n",
    "\n",
    "#FOR ONE MILLION rows apply using swift was 3x faster\n",
    "    \n",
    "<h4>10M</h4>     \n",
    "-------------              \n",
    "\n",
    "\n",
    "#####  TRIAL -1\n",
    "\n",
    "\n",
    "***            \n",
    "303.05524255564                \n",
    "67.80521702766418          \n",
    "\n",
    "#FOR ONE MILLION rows apply using swift was 5x faster        \n",
    "    \n",
    "##### TRIAL -2\n",
    "*** \n",
    "309.784300327301                                                                                                           \n",
    "71.2806544303894\n",
    "    \n",
    "    \n",
    "##### FOR LOOP (10 M) W/O SWIFT\n",
    "***     \n",
    "306.90898180007935   \n",
    "309.29545187950134   \n",
    "308.1306691169739  \n",
    "308.52621626853943   \n",
    "307.5656614303589   \n",
    "\n",
    "##### FOR LOOP (10 M) USING SWIFT\n",
    "***\n",
    "67.83769202232361                                                                 \n",
    "69.81787896156311                                      \n",
    "70.81935858726501                               \n",
    "71.49488592147827                         \n",
    "70.08375406265259                                \n"
   ]
  },
  {
   "cell_type": "code",
   "execution_count": 2,
   "metadata": {},
   "outputs": [],
   "source": [
    "#CHANGE NO OF ROWS ABOVE TO NOTICE DIFFERENCE "
   ]
  }
 ],
 "metadata": {
  "kernelspec": {
   "display_name": "Python 3",
   "language": "python",
   "name": "python3"
  },
  "language_info": {
   "codemirror_mode": {
    "name": "ipython",
    "version": 3
   },
   "file_extension": ".py",
   "mimetype": "text/x-python",
   "name": "python",
   "nbconvert_exporter": "python",
   "pygments_lexer": "ipython3",
   "version": "3.7.4"
  }
 },
 "nbformat": 4,
 "nbformat_minor": 2
}
