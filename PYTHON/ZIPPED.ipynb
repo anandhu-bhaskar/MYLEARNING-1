{
 "cells": [
  {
   "cell_type": "code",
   "execution_count": 1,
   "metadata": {},
   "outputs": [],
   "source": [
    "numbers = [1, 2, 3]\n",
    "letters = ['a','b','c']"
   ]
  },
  {
   "cell_type": "code",
   "execution_count": 2,
   "metadata": {},
   "outputs": [],
   "source": [
    "zipped = zip(letters,numbers)"
   ]
  },
  {
   "cell_type": "code",
   "execution_count": 3,
   "metadata": {},
   "outputs": [
    {
     "data": {
      "text/plain": [
       "('a', 1)"
      ]
     },
     "execution_count": 3,
     "metadata": {},
     "output_type": "execute_result"
    }
   ],
   "source": [
    "next(zipped)"
   ]
  },
  {
   "cell_type": "code",
   "execution_count": 5,
   "metadata": {},
   "outputs": [
    {
     "data": {
      "text/plain": [
       "[(0, 0), (1, 1), (2, 2), (3, 3), (4, 4)]"
      ]
     },
     "execution_count": 5,
     "metadata": {},
     "output_type": "execute_result"
    }
   ],
   "source": [
    "list(zip(range(100),range(5)))"
   ]
  },
  {
   "cell_type": "markdown",
   "metadata": {},
   "source": [
    "Passing Arguments of Unequal Length\n",
    "When you’re working with the Python zip() function, it’s important to pay attention to the length of your iterables. It’s possible that the iterables you pass in as arguments aren’t the same length.\n",
    "\n",
    "In these cases, the number of elements that zip() puts out will be equal to the length of the shortest iterable. The remaining elements in any longer iterables will be totally ignored by zip(), as you can see here:"
   ]
  },
  {
   "cell_type": "code",
   "execution_count": 6,
   "metadata": {},
   "outputs": [
    {
     "data": {
      "text/plain": [
       "[(0, 0), (1, 1), (2, 2), (3, 3), (4, 4)]"
      ]
     },
     "execution_count": 6,
     "metadata": {},
     "output_type": "execute_result"
    }
   ],
   "source": [
    "list(zip(range(100),range(5)))"
   ]
  },
  {
   "cell_type": "markdown",
   "metadata": {},
   "source": [
    "If trailing or unmatched values are important to you, then you can use itertools.zip_longest() instead of zip(). With this function, the missing values will be replaced with whatever you pass to the fillvalue argument (defaults to None). The iteration will continue until the longest iterable is exhausted:"
   ]
  },
  {
   "cell_type": "code",
   "execution_count": 10,
   "metadata": {},
   "outputs": [],
   "source": [
    "from itertools import zip_longest"
   ]
  },
  {
   "cell_type": "code",
   "execution_count": 11,
   "metadata": {},
   "outputs": [
    {
     "data": {
      "text/plain": [
       "[(0, 0),\n",
       " (1, 1),\n",
       " (2, 2),\n",
       " (3, 3),\n",
       " (4, 4),\n",
       " (5, None),\n",
       " (6, None),\n",
       " (7, None),\n",
       " (8, None),\n",
       " (9, None),\n",
       " (10, None),\n",
       " (11, None),\n",
       " (12, None),\n",
       " (13, None),\n",
       " (14, None),\n",
       " (15, None),\n",
       " (16, None),\n",
       " (17, None),\n",
       " (18, None),\n",
       " (19, None),\n",
       " (20, None),\n",
       " (21, None),\n",
       " (22, None),\n",
       " (23, None),\n",
       " (24, None),\n",
       " (25, None),\n",
       " (26, None),\n",
       " (27, None),\n",
       " (28, None),\n",
       " (29, None),\n",
       " (30, None),\n",
       " (31, None),\n",
       " (32, None),\n",
       " (33, None),\n",
       " (34, None),\n",
       " (35, None),\n",
       " (36, None),\n",
       " (37, None),\n",
       " (38, None),\n",
       " (39, None),\n",
       " (40, None),\n",
       " (41, None),\n",
       " (42, None),\n",
       " (43, None),\n",
       " (44, None),\n",
       " (45, None),\n",
       " (46, None),\n",
       " (47, None),\n",
       " (48, None),\n",
       " (49, None),\n",
       " (50, None),\n",
       " (51, None),\n",
       " (52, None),\n",
       " (53, None),\n",
       " (54, None),\n",
       " (55, None),\n",
       " (56, None),\n",
       " (57, None),\n",
       " (58, None),\n",
       " (59, None),\n",
       " (60, None),\n",
       " (61, None),\n",
       " (62, None),\n",
       " (63, None),\n",
       " (64, None),\n",
       " (65, None),\n",
       " (66, None),\n",
       " (67, None),\n",
       " (68, None),\n",
       " (69, None),\n",
       " (70, None),\n",
       " (71, None),\n",
       " (72, None),\n",
       " (73, None),\n",
       " (74, None),\n",
       " (75, None),\n",
       " (76, None),\n",
       " (77, None),\n",
       " (78, None),\n",
       " (79, None),\n",
       " (80, None),\n",
       " (81, None),\n",
       " (82, None),\n",
       " (83, None),\n",
       " (84, None),\n",
       " (85, None),\n",
       " (86, None),\n",
       " (87, None),\n",
       " (88, None),\n",
       " (89, None),\n",
       " (90, None),\n",
       " (91, None),\n",
       " (92, None),\n",
       " (93, None),\n",
       " (94, None),\n",
       " (95, None),\n",
       " (96, None),\n",
       " (97, None),\n",
       " (98, None),\n",
       " (99, None)]"
      ]
     },
     "execution_count": 11,
     "metadata": {},
     "output_type": "execute_result"
    }
   ],
   "source": [
    "list(zip_longest(range(100),range(5)))"
   ]
  },
  {
   "cell_type": "code",
   "execution_count": 13,
   "metadata": {},
   "outputs": [
    {
     "data": {
      "text/plain": [
       "[(0, 0),\n",
       " (1, 1),\n",
       " (2, 2),\n",
       " (3, 3),\n",
       " (4, 4),\n",
       " (5, 'a'),\n",
       " (6, 'a'),\n",
       " (7, 'a'),\n",
       " (8, 'a'),\n",
       " (9, 'a')]"
      ]
     },
     "execution_count": 13,
     "metadata": {},
     "output_type": "execute_result"
    }
   ],
   "source": [
    "list(zip_longest(range(10),range(5),fillvalue='a'))"
   ]
  },
  {
   "cell_type": "code",
   "execution_count": 24,
   "metadata": {},
   "outputs": [
    {
     "data": {
      "text/plain": [
       "[(0, 0),\n",
       " (1, 1),\n",
       " (2, 2),\n",
       " (3, 3),\n",
       " (4, 4),\n",
       " (5, 11),\n",
       " (6, 11),\n",
       " (7, 11),\n",
       " (8, 11),\n",
       " (9, 11),\n",
       " (10, 11),\n",
       " (11, 11),\n",
       " (12, 11),\n",
       " (13, 11),\n",
       " (14, 11),\n",
       " (15, 11),\n",
       " (16, 11),\n",
       " (17, 11),\n",
       " (18, 11),\n",
       " (19, 11),\n",
       " (20, 11),\n",
       " (21, 11),\n",
       " (22, 11),\n",
       " (23, 11),\n",
       " (24, 11),\n",
       " (25, 11),\n",
       " (26, 11),\n",
       " (27, 11),\n",
       " (28, 11),\n",
       " (29, 11),\n",
       " (30, 11),\n",
       " (31, 11),\n",
       " (32, 11),\n",
       " (33, 11),\n",
       " (34, 11),\n",
       " (35, 11),\n",
       " (36, 11),\n",
       " (37, 11),\n",
       " (38, 11),\n",
       " (39, 11),\n",
       " (40, 11),\n",
       " (41, 11),\n",
       " (42, 11),\n",
       " (43, 11),\n",
       " (44, 11),\n",
       " (45, 11),\n",
       " (46, 11),\n",
       " (47, 11),\n",
       " (48, 11),\n",
       " (49, 11),\n",
       " (50, 11),\n",
       " (51, 11),\n",
       " (52, 11),\n",
       " (53, 11),\n",
       " (54, 11),\n",
       " (55, 11),\n",
       " (56, 11),\n",
       " (57, 11),\n",
       " (58, 11),\n",
       " (59, 11),\n",
       " (60, 11),\n",
       " (61, 11),\n",
       " (62, 11),\n",
       " (63, 11),\n",
       " (64, 11),\n",
       " (65, 11),\n",
       " (66, 11),\n",
       " (67, 11),\n",
       " (68, 11),\n",
       " (69, 11),\n",
       " (70, 11),\n",
       " (71, 11),\n",
       " (72, 11),\n",
       " (73, 11),\n",
       " (74, 11),\n",
       " (75, 11),\n",
       " (76, 11),\n",
       " (77, 11),\n",
       " (78, 11),\n",
       " (79, 11),\n",
       " (80, 11),\n",
       " (81, 11),\n",
       " (82, 11),\n",
       " (83, 11),\n",
       " (84, 11),\n",
       " (85, 11),\n",
       " (86, 11),\n",
       " (87, 11),\n",
       " (88, 11),\n",
       " (89, 11),\n",
       " (90, 11),\n",
       " (91, 11),\n",
       " (92, 11),\n",
       " (93, 11),\n",
       " (94, 11),\n",
       " (95, 11),\n",
       " (96, 11),\n",
       " (97, 11),\n",
       " (98, 11),\n",
       " (99, 11)]"
      ]
     },
     "execution_count": 24,
     "metadata": {},
     "output_type": "execute_result"
    }
   ],
   "source": [
    "import numpy as np\n",
    "import random \n",
    "list(zip_longest(range(100),range(5),fillvalue=(random.choice([11,12,13]))))"
   ]
  },
  {
   "cell_type": "code",
   "execution_count": 25,
   "metadata": {},
   "outputs": [],
   "source": [
    "\n",
    "# zip computes all the list at once, izip computes the elements only when requested.\n",
    "\n",
    "# One important difference is that 'zip' returns an actual list, 'izip' returns an 'izip object', which is not a list and does not support list-specific features (such as indexing):\n",
    "\n",
    "# >>> l1 = [1, 2, 3, 4, 5, 6]\n",
    "# >>> l2 = [2, 3, 4, 5, 6, 7]\n",
    "# >>> z = zip(l1, l2)\n",
    "# >>> iz = izip(l1, l2)\n",
    "# >>> isinstance(zip(l1, l2), list)\n",
    "# True\n",
    "# >>> isinstance(izip(l1, l2), list)\n",
    "# False\n",
    "# >>> z[::2] #Get odd places\n",
    "# [(1, 2), (3, 4), (5, 6)]\n",
    "# >>> iz[::2] #Same with izip\n",
    "# Traceback (most recent call last):\n",
    "#   File \"<stdin>\", line 1, in <module>\n",
    "# TypeError: 'itertools.izip' object is unsubscriptable\n",
    "\n",
    "\n",
    "# So, if you need a list (an not a list-like object), just use 'zip'.\n",
    "\n",
    "# Apart from this, 'izip' can be useful for saving memory or cycles.\n",
    "\n",
    "# E.g. the following code may exit after few cycles, so there is no need to compute all items of combined list:\n",
    "\n",
    "# lst_a = ... #list with very large number of items\n",
    "# lst_b = ... #list with very large number of items\n",
    "# #At each cycle, the next couple is provided\n",
    "# for a, b in izip(lst_a, lst_b):\n",
    "#     if a == b:\n",
    "#         break\n",
    "# print a\n",
    "# using zip would have computed all (a, b) couples before entering the cycle.\n",
    "\n",
    "# Moreover, if lst_a and lst_b are very large (e.g. millions of records), zip(a, b) will build a third list with double space.\n",
    "\n",
    "# But if you have small lists, maybe zip is faster."
   ]
  },
  {
   "cell_type": "code",
   "execution_count": 26,
   "metadata": {},
   "outputs": [],
   "source": [
    "try:\n",
    "    from itertools import izip as zip\n",
    "except ImportError:\n",
    "    pass"
   ]
  },
  {
   "cell_type": "code",
   "execution_count": 27,
   "metadata": {},
   "outputs": [
    {
     "name": "stdout",
     "output_type": "stream",
     "text": [
      "a 1\n",
      "b 2\n",
      "c 3\n"
     ]
    }
   ],
   "source": [
    "numbers = [1, 2, 3]\n",
    "letters = ['a','b','c']\n",
    "for l,n in zip(letters,numbers):\n",
    "    print(l,n)"
   ]
  },
  {
   "cell_type": "markdown",
   "metadata": {},
   "source": [
    "Traversing Dictionaries in Parallel"
   ]
  },
  {
   "cell_type": "code",
   "execution_count": 36,
   "metadata": {},
   "outputs": [
    {
     "name": "stdout",
     "output_type": "stream",
     "text": [
      "name -> John\n",
      "name -> Jane\n",
      "loop:1\n",
      "last_name -> Doe\n",
      "last_name -> Doe\n",
      "loop:2\n",
      "job -> Python Consultant\n",
      "job -> Community Manager\n",
      "loop:3\n"
     ]
    }
   ],
   "source": [
    "loop =0\n",
    "dict_one = {'name': 'John', 'last_name': 'Doe', 'job': 'Python Consultant'}\n",
    "dict_two = {'name': 'Jane', 'last_name': 'Doe', 'job': 'Community Manager'}\n",
    "for (k1, v1), (k2, v2) in zip(dict_one.items(), dict_two.items()):\n",
    "    loop+=1\n",
    "    print(k1, '->', v1)\n",
    "    print(k2, '->', v2)\n",
    "    print('loop:' + str(loop))"
   ]
  },
  {
   "cell_type": "markdown",
   "metadata": {},
   "source": [
    "Unzip"
   ]
  },
  {
   "cell_type": "code",
   "execution_count": 52,
   "metadata": {},
   "outputs": [
    {
     "data": {
      "text/plain": [
       "'letters:'"
      ]
     },
     "metadata": {},
     "output_type": "display_data"
    },
    {
     "data": {
      "text/plain": [
       "('a', 'b', 'c', 'd')"
      ]
     },
     "metadata": {},
     "output_type": "display_data"
    },
    {
     "data": {
      "text/plain": [
       "'Numbers:'"
      ]
     },
     "metadata": {},
     "output_type": "display_data"
    },
    {
     "data": {
      "text/plain": [
       "(1, 2, 3, 4)"
      ]
     },
     "metadata": {},
     "output_type": "display_data"
    },
    {
     "data": {
      "text/plain": [
       "'tuples:'"
      ]
     },
     "metadata": {},
     "output_type": "display_data"
    },
    {
     "data": {
      "text/plain": [
       "[(1, 'a'), (2, 'b'), (3, 'c'), (4, 'd')]"
      ]
     },
     "metadata": {},
     "output_type": "display_data"
    }
   ],
   "source": [
    "pairs = [(1, 'a'), (2, 'b'), (3, 'c'), (4, 'd')]\n",
    "numbers, letters = zip(*pairs)\n",
    "display('letters:',letters,'Numbers:' , numbers ,'tuples:',list(zip(numbers,letters)))\n"
   ]
  },
  {
   "cell_type": "markdown",
   "metadata": {},
   "source": [
    "Sorting and zipping"
   ]
  },
  {
   "cell_type": "code",
   "execution_count": 53,
   "metadata": {},
   "outputs": [],
   "source": [
    "letters = ['b', 'a', 'd', 'c']\n",
    "numbers = [2, 4, 3, 1]"
   ]
  },
  {
   "cell_type": "code",
   "execution_count": 54,
   "metadata": {},
   "outputs": [],
   "source": [
    "data1 = list(zip(letters, numbers))"
   ]
  },
  {
   "cell_type": "code",
   "execution_count": 55,
   "metadata": {},
   "outputs": [
    {
     "data": {
      "text/plain": [
       "[('b', 2), ('a', 4), ('d', 3), ('c', 1)]"
      ]
     },
     "execution_count": 55,
     "metadata": {},
     "output_type": "execute_result"
    }
   ],
   "source": [
    "data1"
   ]
  },
  {
   "cell_type": "code",
   "execution_count": 56,
   "metadata": {},
   "outputs": [],
   "source": [
    "data1.sort()  # Sort by letters"
   ]
  },
  {
   "cell_type": "code",
   "execution_count": 57,
   "metadata": {},
   "outputs": [
    {
     "data": {
      "text/plain": [
       "[('a', 4), ('b', 2), ('c', 1), ('d', 3)]"
      ]
     },
     "execution_count": 57,
     "metadata": {},
     "output_type": "execute_result"
    }
   ],
   "source": [
    "data1"
   ]
  },
  {
   "cell_type": "code",
   "execution_count": 58,
   "metadata": {},
   "outputs": [],
   "source": [
    "data2 = list(zip(numbers, letters))"
   ]
  },
  {
   "cell_type": "code",
   "execution_count": 59,
   "metadata": {},
   "outputs": [
    {
     "data": {
      "text/plain": [
       "[(2, 'b'), (4, 'a'), (3, 'd'), (1, 'c')]"
      ]
     },
     "execution_count": 59,
     "metadata": {},
     "output_type": "execute_result"
    }
   ],
   "source": [
    "data2"
   ]
  },
  {
   "cell_type": "code",
   "execution_count": 62,
   "metadata": {},
   "outputs": [],
   "source": [
    "data2.sort()  # Sort by numbers"
   ]
  },
  {
   "cell_type": "code",
   "execution_count": 63,
   "metadata": {},
   "outputs": [
    {
     "data": {
      "text/plain": [
       "[(1, 'c'), (2, 'b'), (3, 'd'), (4, 'a')]"
      ]
     },
     "execution_count": 63,
     "metadata": {},
     "output_type": "execute_result"
    }
   ],
   "source": [
    "data2"
   ]
  },
  {
   "cell_type": "markdown",
   "metadata": {},
   "source": [
    "You can also use sorted() and zip() together to achieve a similar result:"
   ]
  },
  {
   "cell_type": "code",
   "execution_count": 64,
   "metadata": {},
   "outputs": [],
   "source": [
    "data = sorted(zip(letters, numbers))  # Sort by letters"
   ]
  },
  {
   "cell_type": "code",
   "execution_count": 65,
   "metadata": {},
   "outputs": [
    {
     "data": {
      "text/plain": [
       "[('a', 4), ('b', 2), ('c', 1), ('d', 3)]"
      ]
     },
     "execution_count": 65,
     "metadata": {},
     "output_type": "execute_result"
    }
   ],
   "source": [
    "data"
   ]
  },
  {
   "cell_type": "code",
   "execution_count": 66,
   "metadata": {},
   "outputs": [
    {
     "data": {
      "text/plain": [
       "[5200.0, 5100.0, 4800.0]"
      ]
     },
     "execution_count": 66,
     "metadata": {},
     "output_type": "execute_result"
    }
   ],
   "source": [
    "total_sales = [52000.00, 51000.00, 48000.00]\n",
    "prod_cost = [46800.00, 45900.00, 43200.00]\n",
    "profit = []\n",
    "for sales, costs in zip(total_sales, prod_cost):\n",
    "    profit.append(sales - costs)\n",
    "profit"
   ]
  },
  {
   "cell_type": "code",
   "execution_count": 1,
   "metadata": {},
   "outputs": [],
   "source": [
    "fields = ['name', 'last_name', 'age', 'job']\n",
    "values = ['John', 'Doe', '45', 'Python Developer']"
   ]
  },
  {
   "cell_type": "code",
   "execution_count": 2,
   "metadata": {},
   "outputs": [],
   "source": [
    "dict1= dict(zip(fields,values))"
   ]
  },
  {
   "cell_type": "code",
   "execution_count": 4,
   "metadata": {},
   "outputs": [
    {
     "data": {
      "text/plain": [
       "{'name': 'John', 'last_name': 'Doe', 'age': '45', 'job': 'Python Developer'}"
      ]
     },
     "execution_count": 4,
     "metadata": {},
     "output_type": "execute_result"
    }
   ],
   "source": [
    "dict1"
   ]
  },
  {
   "cell_type": "code",
   "execution_count": 6,
   "metadata": {},
   "outputs": [],
   "source": [
    "new_job = ['Python Consultant']\n",
    "field = ['job']\n",
    "dict1.update(zip(field, new_job))"
   ]
  },
  {
   "cell_type": "code",
   "execution_count": 7,
   "metadata": {},
   "outputs": [
    {
     "data": {
      "text/plain": [
       "{'name': 'John', 'last_name': 'Doe', 'age': '45', 'job': 'Python Consultant'}"
      ]
     },
     "execution_count": 7,
     "metadata": {},
     "output_type": "execute_result"
    }
   ],
   "source": [
    "dict1"
   ]
  },
  {
   "cell_type": "code",
   "execution_count": null,
   "metadata": {},
   "outputs": [],
   "source": [
    "Conclusion\n",
    "In this tutorial, you’ve learned how to use Python’s zip() function. zip() can receive multiple iterables as input. It returns an iterator that can generate tuples with paired elements from each argument. The resulting iterator can be quite useful when you need to process multiple iterables in a single loop and perform some actions on their items at the same time.\n",
    "\n",
    "Now you can:\n",
    "\n",
    "Use the zip() function in both Python 3 and Python 2\n",
    "Loop over multiple iterables and perform different actions on their items in parallel\n",
    "Create and update dictionaries on the fly by zipping two input iterables together"
   ]
  }
 ],
 "metadata": {
  "kernelspec": {
   "display_name": "Python 3",
   "language": "python",
   "name": "python3"
  },
  "language_info": {
   "codemirror_mode": {
    "name": "ipython",
    "version": 3
   },
   "file_extension": ".py",
   "mimetype": "text/x-python",
   "name": "python",
   "nbconvert_exporter": "python",
   "pygments_lexer": "ipython3",
   "version": "3.7.4"
  }
 },
 "nbformat": 4,
 "nbformat_minor": 2
}
